{
  "nbformat": 4,
  "nbformat_minor": 0,
  "metadata": {
    "colab": {
      "provenance": [],
      "authorship_tag": "ABX9TyNdDb320JT3WSYF5XaQHFhk",
      "include_colab_link": true
    },
    "kernelspec": {
      "name": "python3",
      "display_name": "Python 3"
    },
    "language_info": {
      "name": "python"
    }
  },
  "cells": [
    {
      "cell_type": "markdown",
      "metadata": {
        "id": "view-in-github",
        "colab_type": "text"
      },
      "source": [
        "<a href=\"https://colab.research.google.com/github/Azizul2026/azizul/blob/main/E_commerce_bot.ipynb\" target=\"_parent\"><img src=\"https://colab.research.google.com/assets/colab-badge.svg\" alt=\"Open In Colab\"/></a>"
      ]
    },
    {
      "cell_type": "code",
      "execution_count": 13,
      "metadata": {
        "colab": {
          "base_uri": "https://localhost:8080/",
          "height": 961
        },
        "id": "D2gn8Yl4tWEn",
        "outputId": "c80ce740-14b9-49a0-988b-0d83f6cbc60e"
      },
      "outputs": [
        {
          "output_type": "stream",
          "name": "stdout",
          "text": [
            "Welcome to the E-commerce Product Recommender Chatbot!\n",
            "You can ask for recommendations in the following categories: Electronics, Fashion.\n",
            "\n",
            "What category are you interested in? (Type 'exit' to quit): Fashion\n",
            "\n",
            "Here are some fashion products you might like:\n"
          ]
        },
        {
          "output_type": "display_data",
          "data": {
            "text/plain": [
              "<IPython.core.display.HTML object>"
            ],
            "text/html": [
              "\n",
              "            <div style='margin-bottom: 20px;'>\n",
              "                <h3>Shoes</h3>\n",
              "                <img src='https://static.nike.com/a/images/f_auto,cs_srgb/w_1536,c_limit/9db13bc6-d63c-4b94-9ca7-b453d1cc40ad/running.jpg/150?text=Shoes' alt='Shoes' style='width:150px; height:auto;'>\n",
              "                <p>Comfortable running shoes.</p>\n",
              "            </div>\n",
              "        "
            ]
          },
          "metadata": {}
        },
        {
          "output_type": "display_data",
          "data": {
            "text/plain": [
              "<IPython.core.display.HTML object>"
            ],
            "text/html": [
              "\n",
              "            <div style='margin-bottom: 20px;'>\n",
              "                <h3>T-shirt</h3>\n",
              "                <img src='https://encrypted-tbn0.gstatic.com/images?q=tbn:ANd9GcTLW71Ao9nAYtDCnppzeKhkkJZ97KEQrz1sew&s/150?text=T-shirt' alt='T-shirt' style='width:150px; height:auto;'>\n",
              "                <p>Stylish cotton t-shirt.</p>\n",
              "            </div>\n",
              "        "
            ]
          },
          "metadata": {}
        },
        {
          "output_type": "display_data",
          "data": {
            "text/plain": [
              "<IPython.core.display.HTML object>"
            ],
            "text/html": [
              "\n",
              "            <div style='margin-bottom: 20px;'>\n",
              "                <h3>Jeans</h3>\n",
              "                <img src='https://image.hm.com/assets/hm/f4/03/f403bc299bbab547fd258277e2d464aaf9efcf6a.jpg?imwidth=1260/150?text=Jeans' alt='Jeans' style='width:150px; height:auto;'>\n",
              "                <p>Classic fit jeans.</p>\n",
              "            </div>\n",
              "        "
            ]
          },
          "metadata": {}
        },
        {
          "output_type": "stream",
          "name": "stdout",
          "text": [
            "\n",
            "What category are you interested in? (Type 'exit' to quit): exit\n",
            "Thank you for using the chatbot! Goodbye!\n"
          ]
        }
      ],
      "source": [
        "import pandas as pd\n",
        "\n",
        "data = {\n",
        "    \"name\": [\"Laptop\", \"Smartphone\", \"Headphones\", \"Shoes\", \"T-shirt\", \"Jeans\"],\n",
        "    \"category\": [\"electronics\", \"electronics\", \"electronics\", \"fashion\", \"fashion\", \"fashion\"],\n",
        "    \"description\": [\n",
        "        \"High-performance laptop.\",\n",
        "        \"Latest model smartphone.\",\n",
        "        \"Noise-cancelling headphones.\",\n",
        "        \"Comfortable running shoes.\",\n",
        "        \"Stylish cotton t-shirt.\",\n",
        "        \"Classic fit jeans.\"\n",
        "    ],\n",
        "    \"image\": [\n",
        "        \"https://imageio.forbes.com/specials-images/imageserve/65282b8ed61a31651ccb438e/14-inch-Macbook-Pro/960x0.jpg?format=jpg&width=1440/150?text=Laptop\",\n",
        "        \"https://platform.theverge.com/wp-content/uploads/sites/2/chorus/uploads/chorus_asset/file/25626687/DSC08433.jpg?quality=90&strip=all&crop=16.675%2C0%2C66.65%2C100&w=2400/150?text=Smartphone\",\n",
        "        \"https://www.gonoise.com/cdn/shop/files/1_2807dbd9-3951-481c-9e9a-61af0420cd37.webp?v=1720759165/150?text=Headphones\",\n",
        "        \"https://static.nike.com/a/images/f_auto,cs_srgb/w_1536,c_limit/9db13bc6-d63c-4b94-9ca7-b453d1cc40ad/running.jpg/150?text=Shoes\",\n",
        "        \"https://encrypted-tbn0.gstatic.com/images?q=tbn:ANd9GcTLW71Ao9nAYtDCnppzeKhkkJZ97KEQrz1sew&s/150?text=T-shirt\",\n",
        "        \"https://image.hm.com/assets/hm/f4/03/f403bc299bbab547fd258277e2d464aaf9efcf6a.jpg?imwidth=1260/150?text=Jeans\"\n",
        "    ]\n",
        "}\n",
        "\n",
        "products_df = pd.DataFrame(data)\n",
        "def recommend_products(category):\n",
        "    \"\"\"Recommend products based on the category.\"\"\"\n",
        "    recommendations = products_df[products_df['category'] == category]\n",
        "    return recommendations\n",
        "\n",
        "from IPython.display import display, HTML\n",
        "\n",
        "def display_products(products):\n",
        "    \"\"\"Display recommended products with images.\"\"\"\n",
        "    for index, product in products.iterrows():\n",
        "        display(HTML(f\"\"\"\n",
        "            <div style='margin-bottom: 20px;'>\n",
        "                <h3>{product['name']}</h3>\n",
        "                <img src='{product['image']}' alt='{product['name']}' style='width:150px; height:auto;'>\n",
        "                <p>{product['description']}</p>\n",
        "            </div>\n",
        "        \"\"\"))\n",
        "\n",
        "def chatbot():\n",
        "    print(\"Welcome to the E-commerce Product Recommender Chatbot!\")\n",
        "    print(\"You can ask for recommendations in the following categories: Electronics, Fashion.\")\n",
        "\n",
        "    while True:\n",
        "        user_input = input(\"\\nWhat category are you interested in? (Type 'exit' to quit): \").lower()\n",
        "\n",
        "        if user_input == 'exit':\n",
        "            print(\"Thank you for using the chatbot! Goodbye!\")\n",
        "            break\n",
        "\n",
        "        if \"electronics\" in user_input:\n",
        "            category = \"electronics\"\n",
        "        elif \"fashion\" in user_input:\n",
        "            category = \"fashion\"\n",
        "        else:\n",
        "            print(\"I can only recommend products in Electronics or Fashion categories.\")\n",
        "            continue\n",
        "\n",
        "        recommended_products = recommend_products(category)\n",
        "\n",
        "        if not recommended_products.empty:\n",
        "            print(f\"\\nHere are some {category} products you might like:\")\n",
        "            display_products(recommended_products)\n",
        "        else:\n",
        "            print(\"Sorry, I couldn't find any products in that category.\")\n",
        "\n",
        "chatbot()"
      ]
    }
  ]
}